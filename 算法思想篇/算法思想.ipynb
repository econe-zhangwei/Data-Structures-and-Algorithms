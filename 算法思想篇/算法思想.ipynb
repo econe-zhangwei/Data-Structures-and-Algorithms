{
 "cells": [
  {
   "cell_type": "markdown",
   "metadata": {},
   "source": [
    "### 深度理解递归\n"
   ]
  },
  {
   "cell_type": "code",
   "execution_count": null,
   "metadata": {},
   "outputs": [],
   "source": [
    "# 斐波那契\n",
    "def fib(n):\n",
    "    '''\n",
    "    Fibanacci: 0、1、1、2、3、5、8、13、21、34、……\n",
    "    fib(0) = 0; fib(1) = 1\n",
    "    fib(n) = fib(n-1) + fib(n-2), (n>=2)\n",
    "    '''\n",
    "    if n == 0 || n == 1: return n\n",
    "    return fib(n-1) + fib(n-2)\n",
    "fib(4)"
   ]
  },
  {
   "cell_type": "markdown",
   "metadata": {},
   "source": [
    "### 贪心算法"
   ]
  },
  {
   "cell_type": "markdown",
   "metadata": {},
   "source": [
    "### 分治算法"
   ]
  },
  {
   "cell_type": "code",
   "execution_count": null,
   "metadata": {},
   "outputs": [],
   "source": [
    "# 定义实现移动功能的函数（汉诺塔）\n",
    "def hanoi(n, a, buffer, c):\n",
    "    \"\"\"\n",
    "    para: n:盘子个数\n",
    "          a,c:起始塔座，目标塔座\n",
    "          buffer：起过度作用的塔座\n",
    "    \"\"\"\n",
    "    if n == 1:\n",
    "        print(a,\"->\",c)\n",
    "        return\n",
    "    hanoi(n-1, a, c, buffer)\n",
    "    hanoi(1, a, buffer, c)  # 该行也可直接写 print(a,\"->\",c)\n",
    "    hanoi(n-1, buffer, a, c)\n",
    "hanoi(3, \"A\", \"B\", \"C\")"
   ]
  },
  {
   "cell_type": "markdown",
   "metadata": {},
   "source": [
    "### 回溯算法"
   ]
  },
  {
   "cell_type": "code",
   "execution_count": null,
   "metadata": {},
   "outputs": [],
   "source": [
    "# 0-1背包"
   ]
  },
  {
   "cell_type": "code",
   "execution_count": null,
   "metadata": {},
   "outputs": [],
   "source": [
    "maxW = -1 # 存储背包中物品总重量的最大值\n",
    "def bag(i, cw, items, w): \n",
    "    ''' \n",
    "    i: 第i个物品\n",
    "    cw: 当前背包已有的物品重量和 \n",
    "    items: python列表，表示每个物品的重量\n",
    "    w: 背包最大承载重量\n",
    "    ''' \n",
    "    global maxW\n",
    "    if cw==w or i==len(items): # 已经装满，或者所有物品都考察完\n",
    "        if maxW < cw:  maxW = cw \n",
    "        return\n",
    "\t# 每个物品都有两种状态，如果不选就回溯（返回上一步重新选择）\n",
    "\tbag(i+1, cw, items, w) # 不选\n",
    "\tif (cw + items[i] <= w): \n",
    "    \tbag(i+1, cw+items[i], items, w) # 选\n",
    "    \n",
    "# 测试\n",
    "items = [2, 5, 3, 6] \n",
    "bag(0, 0, items, 10) \n",
    "print(maxW)"
   ]
  },
  {
   "cell_type": "markdown",
   "metadata": {},
   "source": [
    "### 动态规划"
   ]
  },
  {
   "cell_type": "code",
   "execution_count": null,
   "metadata": {},
   "outputs": [],
   "source": [
    "# 0-1背包"
   ]
  },
  {
   "cell_type": "code",
   "execution_count": null,
   "metadata": {},
   "outputs": [],
   "source": [
    "def bag_dp(items, n, w):\n",
    "    \"\"\"\n",
    "    items:物品重量列表\n",
    "    n:物品个数\n",
    "    w:背包允许的最大重量\n",
    "    \"\"\"\n",
    "    states = [[0 for i in range(n)] for j in range(w+1)]   # 初始化一个状态表\n",
    "    \n",
    "    # 后一层状态要根据前一层状态来决策，所以还要初始化第一行\n",
    "    states[0][0] = True\n",
    "    states[0][items[0]] = True\n",
    "    \n",
    "    # 依次动态的对每一层进行决策\n",
    "    for i in range(1,n):\n",
    "        # 第i个物品不放入背包\n",
    "        for j in range(w+1):\n",
    "            if states[i-1][j] = True  states[i][j]=states[i-1][j]\n",
    "        # 第i个物品放入背包\n",
    "        for j in range(w+1):\n",
    "            if states[i-1][j] = True  states[i-1][j] + items[i] = True\n",
    "    # 输出最大不超过背包允许重量的值\n",
    "    for i in range(w,-1,-1):\n",
    "        if states[n-1][i] = True  return i\n"
   ]
  },
  {
   "cell_type": "code",
   "execution_count": null,
   "metadata": {},
   "outputs": [],
   "source": [
    "# 解法二\n",
    "def bag_DP(items, n, w):\n",
    "    states = [0]*(w+1)\n",
    "    states[0] = True\n",
    "    states[items[0]] = True\n",
    "    for i in range(1,n):\n",
    "        for j in range(w-items[i]): \n",
    "        # 若改成(range(w-items[i],-1,-1))，从后往前先计算大数，可避免重复计算问题\n",
    "            if states[j] = True states[j+items[i]] = True\n",
    "    for i in range(w,-1,-1) if states[i] = True retuen 1"
   ]
  },
  {
   "cell_type": "code",
   "execution_count": null,
   "metadata": {},
   "outputs": [],
   "source": [
    "# 爬楼梯\n",
    "def floor(n):\n",
    "    if n<1 return 0\n",
    "    if n==1 return 1\n",
    "    if n==2 return 2\n",
    "    \n",
    "    #动态规划过程\n",
    "    a,b,temp = 1,2,0\n",
    "    for i in range(3,n+1):\n",
    "        temp = a + b\n",
    "        a = b\n",
    "        temp = b\n",
    "    return temp"
   ]
  },
  {
   "cell_type": "code",
   "execution_count": null,
   "metadata": {},
   "outputs": [],
   "source": [
    "# 0-1背包升级版本"
   ]
  },
  {
   "cell_type": "code",
   "execution_count": null,
   "metadata": {},
   "outputs": [],
   "source": [
    "def bag_GP2(items, values, n, w):\n",
    "    \"\"\"\n",
    "    items:物品重量列表\n",
    "    values:物品价值列表\n",
    "    n:物品个数\n",
    "    w:背包允许的最大重量\n",
    "    \"\"\"\n",
    "    # 初始化状态转移表\n",
    "    states = [[-1 for i in range(n)] for j in range(w+1)]\n",
    "    states[0][0] = 0\n",
    "    states[0][items[0]] = values[0]\n",
    "    \n",
    "    # 动态规划过程\n",
    "    for i in range(1,n):\n",
    "        # 不选择第i个物品\n",
    "        for j in range(w+1):\n",
    "            if states[i-1][j] >= 0 states[i][j] = states[i-1][j]\n",
    "        # 选择第i个物品\n",
    "        for j in range(W+1):\n",
    "            if states[i-1][j] >= 0:\n",
    "                v = states[i-1][j] + values[i]\n",
    "                if v > states[i-1][j]:\n",
    "                    states[i][j+items[i]] = v\n",
    "    # 从最后一行中找最大值\n",
    "    maxValue = -1\n",
    "    for i in range(w+1):\n",
    "        if states[n-1][i] > maxValue maxValue=states[n-1][i]\n",
    "    # pythonic一点的写法：return max(states[n-1])"
   ]
  },
  {
   "cell_type": "code",
   "execution_count": null,
   "metadata": {},
   "outputs": [],
   "source": [
    "# 解法二\n",
    "def bag_DP2(items, values, n, w):\n",
    "    preResult = [-1] * (w+1)\n",
    "    result = [-1] * (w+1)\n",
    "    preResult[0] = 0\n",
    "    preResult[items[0]] = values[0]\n",
    "    \n",
    "    for i in range(1,n):\n",
    "        # 不选择第i个物品\n",
    "        for j in range(w+1):\n",
    "            if result[j] < preResult[j]:\n",
    "                result[j] = preResult[j]\n",
    "        # 选择第i个物品\n",
    "        for j in range(w+1):\n",
    "            if preResult[j] >= 0:\n",
    "                result[j+items[i]] = preResult[j]+values[i] \n",
    "    return max(result)"
   ]
  }
 ],
 "metadata": {
  "kernelspec": {
   "display_name": "Python 3",
   "language": "python",
   "name": "python3"
  },
  "language_info": {
   "codemirror_mode": {
    "name": "ipython",
    "version": 3
   },
   "file_extension": ".py",
   "mimetype": "text/x-python",
   "name": "python",
   "nbconvert_exporter": "python",
   "pygments_lexer": "ipython3",
   "version": "3.7.4"
  }
 },
 "nbformat": 4,
 "nbformat_minor": 2
}
